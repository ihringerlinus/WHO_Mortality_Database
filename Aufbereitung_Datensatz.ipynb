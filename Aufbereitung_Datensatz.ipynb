{
 "cells": [
  {
   "cell_type": "markdown",
   "id": "0dfe0e62",
   "metadata": {},
   "source": [
    "# Data Preparation\n",
    "## In this section, we will prepare your data for analysis."
   ]
  },
  {
   "cell_type": "markdown",
   "id": "98f8b819",
   "metadata": {},
   "source": [
    "#### Import Libraries"
   ]
  },
  {
   "cell_type": "code",
   "execution_count": 16,
   "id": "54cfcb76",
   "metadata": {},
   "outputs": [],
   "source": [
    "import pandas as pd\n",
    "from glob import glob"
   ]
  },
  {
   "cell_type": "markdown",
   "id": "2afa122a",
   "metadata": {},
   "source": [
    "#### Concatenation of the csv files\n",
    "##### Our data was split into 6 different csv files. In this section we are concatenating all these files into one single csv file(base_data.csv)."
   ]
  },
  {
   "cell_type": "code",
   "execution_count": 17,
   "id": "91a1285e",
   "metadata": {},
   "outputs": [
    {
     "data": {
      "text/plain": [
       "(5143931, 39)"
      ]
     },
     "execution_count": 17,
     "metadata": {},
     "output_type": "execute_result"
    }
   ],
   "source": [
    "files = glob(\"Data_Files/Morticd10_part*.csv\")\n",
    "\n",
    "dfs = []\n",
    "for f in files:\n",
    "    df = pd.read_csv(f, low_memory=False)\n",
    "    dfs.append(df)\n",
    "merged = pd.concat(dfs, ignore_index=True)\n",
    "\n",
    "merged.shape\n",
    "\n",
    "##merged.to_csv(\"Data_Files/base_data.csv\", index=False)"
   ]
  },
  {
   "cell_type": "code",
   "execution_count": 5,
   "id": "f22d0a96",
   "metadata": {},
   "outputs": [
    {
     "data": {
      "text/plain": [
       "array(['101', '103', '104', 'UE1', 101, 103, 104, '10M'], dtype=object)"
      ]
     },
     "execution_count": 5,
     "metadata": {},
     "output_type": "execute_result"
    }
   ],
   "source": [
    "merged['List'].unique()"
   ]
  },
  {
   "cell_type": "code",
   "execution_count": 11,
   "id": "901a7ecd",
   "metadata": {},
   "outputs": [
    {
     "data": {
      "text/plain": [
       "Year\n",
       "2016    21340\n",
       "2014    19957\n",
       "2013    18514\n",
       "2015    18196\n",
       "2017    17899\n",
       "2008    17638\n",
       "2005    16706\n",
       "2012    15654\n",
       "2011    15603\n",
       "2004    15284\n",
       "2007    15187\n",
       "2019    14797\n",
       "2009    14779\n",
       "2006    14744\n",
       "2010    14711\n",
       "2000    14177\n",
       "2018    13647\n",
       "2001    13258\n",
       "2003    12549\n",
       "2002    12461\n",
       "1998    12449\n",
       "1999    11416\n",
       "2020     9338\n",
       "1997     7930\n",
       "1996     6930\n",
       "2022     5437\n",
       "2021     4981\n",
       "1995     3011\n",
       "2023     2966\n",
       "1994     1978\n",
       "Name: count, dtype: int64"
      ]
     },
     "execution_count": 11,
     "metadata": {},
     "output_type": "execute_result"
    }
   ],
   "source": [
    "merged[\"List\"].value_counts()\n",
    "merged[\"Year\"].value_counts()\n",
    "\n"
   ]
  },
  {
   "cell_type": "markdown",
   "id": "bc10374d",
   "metadata": {},
   "source": [
    "#### Deletion of unnecessary rows\n",
    "##### In this section we are deleting all the rows that are not necessary for our analysis."
   ]
  },
  {
   "cell_type": "code",
   "execution_count": 22,
   "id": "b93b6f10",
   "metadata": {},
   "outputs": [],
   "source": [
    "data = merged[(merged[\"List\"] == 103) | (merged[\"List\"] == '103')]\n",
    "base_data = data.drop(data.columns[[1, 2]], axis = 1)\n",
    "base_data.to_csv(\"Data_Files/base_data.csv\", index=False)"
   ]
  },
  {
   "cell_type": "markdown",
   "id": "ce5062de",
   "metadata": {},
   "source": [
    "#### Adding column headers\n",
    "##### In this sections, we add a column header in the causes_codes.csv"
   ]
  },
  {
   "cell_type": "code",
   "execution_count": 39,
   "id": "0223ea9e",
   "metadata": {},
   "outputs": [],
   "source": [
    "import pandas as pd\n",
    "\n",
    "# CSV ohne Header einlesen\n",
    "df = pd.read_csv(\"codes_Files/causes_codes.csv\", \n",
    "                 encoding=\"utf-8-sig\", \n",
    "                 sep=\";\", \n",
    "                 header=None)\n",
    "\n",
    "# Spaltenanzahl ermitteln\n",
    "n_cols = df.shape[1]\n",
    "\n",
    "# Leere Header-Liste erzeugen\n",
    "new_header = [\"\"] * n_cols\n",
    "\n",
    "# Nur bestimmte Spalten benennen\n",
    "new_header[6] = \"cause_codes\"   # 6. Spalte\n",
    "new_header[9] = \"cause_name\"    # 8. Spalte\n",
    "\n",
    "# Header zuweisen\n",
    "df.columns = new_header\n",
    "\n",
    "# Speichern mit Header\n",
    "df.to_csv(\"codes_Files/causes_codes_with_header.csv\", \n",
    "          index=False, \n",
    "          sep=\";\", \n",
    "          encoding=\"utf-8-sig\")\n"
   ]
  },
  {
   "cell_type": "markdown",
   "id": "21f45954",
   "metadata": {},
   "source": [
    "#### Lookup Country Names\n",
    "##### In this section we are looking up the country names based on the country codes provided in the dataset (country_codes.csv)."
   ]
  },
  {
   "cell_type": "code",
   "execution_count": 42,
   "id": "df9302fc",
   "metadata": {},
   "outputs": [
    {
     "data": {
      "text/plain": [
       "Cause\n",
       "Acute myocardial infarction                                                                807\n",
       "Malignant neoplasm of bronchus and lung                                                    798\n",
       "Malignant neoplasm of liver and intrahepatic bile ducts                                    795\n",
       "Other ill-defined and unspecified causes of mortality                                      793\n",
       "Chronic ischaemic heart disease                                                            792\n",
       "                                                                                          ... \n",
       "Rosacea                                                                                      2\n",
       "Ophthalmic devices associated with adverse incidents                                         1\n",
       "Nystagmus and other irregular eye movements                                                  1\n",
       "Other specified infectious agents as the cause of diseases classified to other chapters      1\n",
       "Resistance to antineoplastic drugs                                                           1\n",
       "Name: count, Length: 1654, dtype: int64"
      ]
     },
     "execution_count": 42,
     "metadata": {},
     "output_type": "execute_result"
    }
   ],
   "source": [
    "country_codes = pd.read_csv(\"codes_Files/country_codes.csv\", encoding=\"utf-8-sig\")\n",
    "base_data = pd.read_csv(r\"Data_Files/base_data.csv\", encoding=\"utf-8-sig\")\n",
    "causes_codes = pd.read_csv(\"codes_Files/causes_codes_with_header.csv\", encoding=\"utf-8-sig\", sep=\";\")\n",
    "\n",
    "\n",
    "#Looking up each country, replacing the code with corresponding name of country\n",
    "country_lookup = base_data.merge(country_codes, left_on=\"Country\", right_on=\"country\", how=\"left\")\n",
    "country_lookup[\"Country\"] = country_lookup[\"name\"]\n",
    "country_lookup = country_lookup.drop(columns=[\"country\", \"name\"])\n",
    "\n",
    "country_lookup.to_csv(\"Data_Files/country_lookup.csv\", index=False)\n",
    " \n",
    "\n",
    "#Looking up each disease, replacing the code with corresponding name of disease\n",
    "causes_lookup = country_lookup.merge(causes_codes, left_on=\"Cause\", right_on=\"cause_codes\", how=\"left\")\n",
    "\n",
    "causes_lookup[\"Cause\"] = causes_lookup[\"cause_name\"]\n",
    " \n",
    "# Aufräumen\n",
    "causes_lookup = causes_lookup.drop(columns=[\"cause_codes\", \"cause_name\"])\n",
    " \n",
    "causes_lookup.to_csv(\"Data_Files/base_data_with_lookup.csv\", index=False)\n",
    "\n",
    "\n",
    "causes_lookup[\"Cause\"].value_counts()\n"
   ]
  },
  {
   "cell_type": "code",
   "execution_count": 15,
   "id": "38895198",
   "metadata": {},
   "outputs": [
    {
     "name": "stderr",
     "output_type": "stream",
     "text": [
      "/var/folders/37/084722ds0s5f0lsp5b75z_w40000gn/T/ipykernel_64009/461549012.py:1: DtypeWarning: Columns (2) have mixed types. Specify dtype option on import or set low_memory=False.\n",
      "  dataset = pd.read_csv(\"Data_Files/mortality_with_country_names.csv\")\n"
     ]
    }
   ],
   "source": [
    "dataset = pd.read_csv(\"Data_Files/mortality_with_country_names.csv\")\n",
    "dataset = dataset.drop(df.columns[[1, 2]], axis=1)\n",
    "\n",
    "# save the result\n",
    "dataset.to_csv(\"Data_Files/mortality_clean.csv\", index=False)"
   ]
  }
 ],
 "metadata": {
  "kernelspec": {
   "display_name": ".venv",
   "language": "python",
   "name": "python3"
  },
  "language_info": {
   "codemirror_mode": {
    "name": "ipython",
    "version": 3
   },
   "file_extension": ".py",
   "mimetype": "text/x-python",
   "name": "python",
   "nbconvert_exporter": "python",
   "pygments_lexer": "ipython3",
   "version": "3.12.6"
  }
 },
 "nbformat": 4,
 "nbformat_minor": 5
}
