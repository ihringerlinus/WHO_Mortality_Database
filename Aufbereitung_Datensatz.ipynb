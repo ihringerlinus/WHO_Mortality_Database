{
 "cells": [
  {
   "cell_type": "markdown",
   "id": "0dfe0e62",
   "metadata": {},
   "source": [
    "# Data Preparation\n",
    "## In this section, we will prepare your data for analysis."
   ]
  },
  {
   "cell_type": "markdown",
   "id": "98f8b819",
   "metadata": {},
   "source": [
    "#### Import Libraries"
   ]
  },
  {
   "cell_type": "code",
   "execution_count": null,
   "id": "54cfcb76",
   "metadata": {},
   "outputs": [],
   "source": [
    "import pandas as pd\n",
    "from glob import glob"
   ]
  },
  {
   "cell_type": "markdown",
   "id": "2afa122a",
   "metadata": {},
   "source": [
    "#### Concatenation of the csv files\n",
    "##### Our data was split into 6 different csv files. In this section we are concatenating all these files into one single csv file(base_data.csv)."
   ]
  },
  {
   "cell_type": "code",
   "execution_count": 13,
   "id": "91a1285e",
   "metadata": {},
   "outputs": [
    {
     "data": {
      "text/plain": [
       "(5143931, 39)"
      ]
     },
     "execution_count": 13,
     "metadata": {},
     "output_type": "execute_result"
    }
   ],
   "source": [
    "files = glob(\"Data_Files/Morticd10_part*.csv\")\n",
    "\n",
    "dfs = []\n",
    "for f in files:\n",
    "    df = pd.read_csv(f, low_memory=False)\n",
    "    dfs.append(df)\n",
    "merged = pd.concat(dfs, ignore_index=True)\n",
    "\n",
    "merged.shape\n",
    "\n",
    "##merged.to_csv(\"Data_Files/base_data.csv\", index=False)"
   ]
  },
  {
   "cell_type": "code",
   "execution_count": 18,
   "id": "f22d0a96",
   "metadata": {},
   "outputs": [
    {
     "data": {
      "text/plain": [
       "array(['101', '103', '104', '10M', 'UE1', 101, 103, 104], dtype=object)"
      ]
     },
     "execution_count": 18,
     "metadata": {},
     "output_type": "execute_result"
    }
   ],
   "source": [
    "merged['List'].unique()"
   ]
  },
  {
   "cell_type": "code",
   "execution_count": 19,
   "id": "901a7ecd",
   "metadata": {},
   "outputs": [
    {
     "data": {
      "text/plain": [
       "List\n",
       "104    2920684\n",
       "104    1790218\n",
       "103     225457\n",
       "103     158080\n",
       "10M      18114\n",
       "101      17126\n",
       "101      14000\n",
       "UE1        252\n",
       "Name: count, dtype: int64"
      ]
     },
     "execution_count": 19,
     "metadata": {},
     "output_type": "execute_result"
    }
   ],
   "source": [
    "merged[\"List\"].value_counts()"
   ]
  },
  {
   "cell_type": "markdown",
   "id": "bc10374d",
   "metadata": {},
   "source": [
    "#### Deletion of unnecessary rows\n",
    "##### In this section we are deleting all the rows that are not necessary for our analysis."
   ]
  },
  {
   "cell_type": "code",
   "execution_count": 16,
   "id": "b93b6f10",
   "metadata": {},
   "outputs": [],
   "source": [
    "data = merged[(merged[\"List\"] == 103) | (merged[\"List\"] == '103')]\n",
    "\n",
    "data.to_csv(\"Data_Files/base_data.csv\", index=False)"
   ]
  },
  {
   "cell_type": "markdown",
   "id": "21f45954",
   "metadata": {},
   "source": [
    "#### Lookup Country Names\n",
    "##### In this section we are looking up the country names based on the country codes provided in the dataset (country_codes.csv)."
   ]
  },
  {
   "cell_type": "code",
   "execution_count": 20,
   "id": "df9302fc",
   "metadata": {},
   "outputs": [
    {
     "name": "stderr",
     "output_type": "stream",
     "text": [
      "<>:1: SyntaxWarning: invalid escape sequence '\\c'\n",
      "<>:1: SyntaxWarning: invalid escape sequence '\\c'\n",
      "C:\\Users\\benma\\AppData\\Local\\Temp\\ipykernel_30340\\2146119423.py:1: SyntaxWarning: invalid escape sequence '\\c'\n",
      "  codes = pd.read_csv(\"codes_Files\\country_codes.csv\", encoding=\"utf-8-sig\")\n",
      "C:\\Users\\benma\\AppData\\Local\\Temp\\ipykernel_30340\\2146119423.py:2: DtypeWarning: Columns (2) have mixed types. Specify dtype option on import or set low_memory=False.\n",
      "  mortality = pd.read_csv(r\"Data_Files\\base_data.csv\", encoding=\"utf-8-sig\")\n"
     ]
    }
   ],
   "source": [
    "codes = pd.read_csv(\"codes_Files\\country_codes.csv\", encoding=\"utf-8-sig\")\n",
    "mortality = pd.read_csv(r\"Data_Files\\base_data.csv\", encoding=\"utf-8-sig\")\n",
    "merged = mortality.merge(codes, left_on=\"Country\", right_on=\"country\", how=\"left\")\n",
    "merged[\"Country\"] = merged[\"name\"]\n",
    "merged = merged.drop(columns=[\"country\", \"name\"])\n",
    "merged.to_csv(\"mortality_with_country_names.csv\", index=False)"
   ]
  }
 ],
 "metadata": {
  "kernelspec": {
   "display_name": ".venv",
   "language": "python",
   "name": "python3"
  },
  "language_info": {
   "codemirror_mode": {
    "name": "ipython",
    "version": 3
   },
   "file_extension": ".py",
   "mimetype": "text/x-python",
   "name": "python",
   "nbconvert_exporter": "python",
   "pygments_lexer": "ipython3",
   "version": "3.12.4"
  }
 },
 "nbformat": 4,
 "nbformat_minor": 5
}
