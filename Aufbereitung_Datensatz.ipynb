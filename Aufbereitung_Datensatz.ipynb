{
 "cells": [
  {
   "cell_type": "code",
   "execution_count": null,
   "id": "f6e1d23d",
   "metadata": {},
   "outputs": [],
   "source": [
    "#hallo"
   ]
  }
 ],
 "metadata": {
  "language_info": {
   "name": "python"
  }
 },
 "nbformat": 4,
 "nbformat_minor": 5
}
