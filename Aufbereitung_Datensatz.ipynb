{
 "cells": [
  {
   "cell_type": "code",
   "execution_count": 4,
   "id": "f6e1d23d",
   "metadata": {},
   "outputs": [
    {
     "name": "stderr",
     "output_type": "stream",
     "text": [
      "<>:3: SyntaxWarning: invalid escape sequence '\\M'\n",
      "<>:3: SyntaxWarning: invalid escape sequence '\\M'\n",
      "C:\\Users\\benma\\AppData\\Local\\Temp\\ipykernel_23976\\3284330470.py:3: SyntaxWarning: invalid escape sequence '\\M'\n",
      "  part1 = pd.read_csv('Data_Files\\Morticd10_part1.csv')\n",
      "C:\\Users\\benma\\AppData\\Local\\Temp\\ipykernel_23976\\3284330470.py:3: DtypeWarning: Columns (4) have mixed types. Specify dtype option on import or set low_memory=False.\n",
      "  part1 = pd.read_csv('Data_Files\\Morticd10_part1.csv')\n"
     ]
    },
    {
     "data": {
      "text/plain": [
       "(1022017, 39)"
      ]
     },
     "execution_count": 4,
     "metadata": {},
     "output_type": "execute_result"
    }
   ],
   "source": [
    "import pandas as pd\n",
    "\n",
    "part1 = pd.read_csv('Data_Files\\Morticd10_part1.csv')\n",
    "\n",
    "part1.shape"
   ]
  }
 ],
 "metadata": {
  "kernelspec": {
   "display_name": ".venv",
   "language": "python",
   "name": "python3"
  },
  "language_info": {
   "codemirror_mode": {
    "name": "ipython",
    "version": 3
   },
   "file_extension": ".py",
   "mimetype": "text/x-python",
   "name": "python",
   "nbconvert_exporter": "python",
   "pygments_lexer": "ipython3",
   "version": "3.12.4"
  }
 },
 "nbformat": 4,
 "nbformat_minor": 5
}
