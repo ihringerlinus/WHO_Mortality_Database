{
 "cells": [
  {
   "cell_type": "code",
   "execution_count": null,
   "id": "91a1285e",
   "metadata": {},
   "outputs": [],
   "source": [
    "import pandas as pd\n",
    "from glob import glob\n",
    "\n",
    "files = glob(\"Data_Files/Morticd10_part*.csv\")\n",
    "\n",
    "dfs = []\n",
    "for f in files:\n",
    "    df = pd.read_csv(f, low_memory=False)\n",
    "    dfs.append(df)\n",
    "merged = pd.concat(dfs, ignore_index=True)\n",
    "\n",
    "merged.to_csv(\"Data_Files/base_data.csv\", index=False)"
   ]
  }
 ],
 "metadata": {
  "language_info": {
   "name": "python"
  }
 },
 "nbformat": 4,
 "nbformat_minor": 5
}
